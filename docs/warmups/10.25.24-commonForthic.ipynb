{
 "cells": [
  {
   "cell_type": "markdown",
   "metadata": {},
   "source": [
    "A list of common Forthic commands:"
   ]
  },
  {
   "cell_type": "code",
   "execution_count": null,
   "metadata": {
    "vscode": {
     "languageId": "plaintext"
    }
   },
   "outputs": [],
   "source": [
    "Original Flow\n",
    "## Initialize the variables\n",
    "[\"ticket\" \"display_label\" \"display_summary\"] VARIABLES\n",
    "\n",
    "## Convert the form selections to a label\n",
    ": CONDITION-LABEL   (display_label !) [\"form_response\" \"corresponding_label\"] REC display_label @ REC@  display_label @ DEFAULT;\n",
    "## \n",
    ": CONDITION-SUMMARY (display_summary !) [\"issue_type\" \"corresponding_form_response] REC display_summary @ REC@ display_summary @ DEFAULT;\n",
    "\n",
    "## ??\n",
    ": ticket-LABELS   ticket @ \"Labels\" REC@;\n",
    "## ??\n",
    ": <CONDITION-LABELS   ticket-LABELS \"CONDITION-LABEL\" MAP \"Labels\" <REC!;\n",
    "\n",
    "# List of all possible labels\n",
    ": ROUTING-LABELS [];\n",
    "\n",
    "## ??\n",
    ": |ROUTING-LABELS   \"ROUTING-LABELS IN\" SELECT; \n",
    "## ??\n",
    ": ticket-ROUTING-KEY   ticket-LABELS |ROUTING-LABELS SORT \"-\" JOIN; #change ticket-LABELS to <CONDITION-LABELS to fix the assignee issue?\n",
    "\n",
    "## ??\n",
    ": ROUTING-KEY->ASSIGNEE [\"label\" \"name\"] REC;\n",
    "## ??\n",
    ": <ROUTING-ASSIGNEE   ROUTING-KEY->ASSIGNEE ticket-ROUTING-KEY REC@ \"rodonohu\" DEFAULT \"Assignee\" <REC!;\n",
    "\n",
    "## Create ticket\n",
    "## ??\n",
    ": CREATE-TICKET (ticket !@) <CONDITION-LABELS <ROUTING-ASSIGNEE jira.CREATE;   # (ticket_rec -- ticket_key)\n",
    "## ?? How does this work? Seems recursive\n",
    ": ADD-ATTACHMENTS   jira.ADD-ATTACHMENTS;\n",
    "\n",
    "-------\n",
    "Aggregate the data into the views"
   ]
  },
  {
   "cell_type": "code",
   "execution_count": null,
   "metadata": {
    "vscode": {
     "languageId": "plaintext"
    }
   },
   "outputs": [],
   "source": [
    "Create Ticket flow\n",
    "\n",
    "## Tickets\n",
    ": |ROUTING-LABELS   \"ROUTING-LABELS IN\" SELECT;   \n",
    "\n",
    "## Routing Assignee\n",
    ": ROUTING-KEY->ASSIGNEE [DATA]\n",
    ": ticket-ROUTING-KEY   ticket-LABELS |ROUTING-LABELS\n",
    "\n",
    "<ROUTING-ASSIGNEE    ROUTING-KEY->ASSIGNEE ticket-ROUTING-KEY\n",
    "\n",
    ": CREATE-TICKET (ticket !@) <CONDITION-LABELS <ROUTING-ASSIGNEE"
   ]
  },
  {
   "cell_type": "code",
   "execution_count": null,
   "metadata": {
    "vscode": {
     "languageId": "plaintext"
    }
   },
   "outputs": [],
   "source": [
    "Shortlist:\n",
    "## Using REC\n",
    "REC ## Creates record object\n",
    "REC@ ## Retreives value of field from record ## example:\n",
    "\n",
    "<REC! ## Sets value of a record's field\n",
    "(variable !)\n",
    "(variable !@)\n",
    "REC@\n",
    "REC!\n",
    "<REC\n",
    ">REC\n",
    "\n",
    "\n",
    "REC variable1 @ REC@ variable1 @ DEFAULT; ## CONDITION-LABEL and CONDITION-SUMMARY\n",
    "variable @ \"Variable_Name\" REC@;\n",
    "REC@ \"rodonohu\" DEFAULT \"Assignee\" <REC! ## From ROUTING-ASSIGNEE\n",
    "\n",
    "\n",
    "\n"
   ]
  }
 ],
 "metadata": {
  "language_info": {
   "name": "python"
  }
 },
 "nbformat": 4,
 "nbformat_minor": 2
}
